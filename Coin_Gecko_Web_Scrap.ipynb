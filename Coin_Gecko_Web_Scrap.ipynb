{
 "cells": [
  {
   "cell_type": "code",
   "execution_count": 1,
   "id": "4e474668",
   "metadata": {},
   "outputs": [],
   "source": [
    "from selenium import webdriver\n",
    "from selenium.webdriver.chrome.options import Options\n",
    "from selenium.webdriver.chrome.service import Service\n",
    "from selenium.webdriver.common.by import By\n",
    "from selenium.webdriver.common.action_chains import ActionChains\n",
    "from selenium.webdriver.support.ui import WebDriverWait\n",
    "from selenium.common.exceptions import WebDriverException\n",
    "from selenium.webdriver.support import expected_conditions as EC\n",
    "import pandas as pd\n",
    "from tqdm import tqdm"
   ]
  },
  {
   "cell_type": "code",
   "execution_count": 2,
   "id": "c5b5d941",
   "metadata": {},
   "outputs": [],
   "source": [
    "# Configures webdriver\n",
    "\n",
    "options = Options()\n",
    "# options.headless = True # Hides GUI\n",
    "\n",
    "# Sets window size to native GUI size\n",
    "# options.add_argument(\"--window-size=1920,1080\") \n",
    "options.add_argument(\"start-maximized\")\n",
    "\n",
    "# Removes automation tags from the browser\n",
    "options.add_experimental_option(\"excludeSwitches\", [\"enable-automation\"])\n",
    "options.add_experimental_option('useAutomationExtension', False)\n",
    "\n",
    "# Reference:\n",
    "# https://scrapfly.io/blog/web-scraping-with-selenium-and-python/\n",
    "# https://python.plainenglish.io/how-to-bypass-google-recaptcha-with-selenium-and-python-9470664fb575"
   ]
  },
  {
   "cell_type": "code",
   "execution_count": 3,
   "id": "4ad77a3d",
   "metadata": {},
   "outputs": [],
   "source": [
    "# Initializes driver\n",
    "\n",
    "service = Service('C:/Users/ZH128895/chromedriver.exe') # Your/Absolute/Path/To/chromedriver.exe \n",
    "driver = webdriver.Chrome(service=service, options = options) # Uses Chrome brower\n",
    "\n",
    "# Changes User Agent at each request\n",
    "# driver.execute_cdp_cmd('Network.setUserAgentOverride', {\"userAgent\": 'Mozilla/5.0 (Windows NT 10.0; Win64; x64) AppleWebKit/537.36 (KHTML, like Gecko) Chrome/83.0.4103.53 Safari/537.36'})\n",
    "\n",
    "driver.get('https://www.coingecko.com') # Website to scrap"
   ]
  },
  {
   "cell_type": "code",
   "execution_count": 4,
   "id": "a394c421",
   "metadata": {},
   "outputs": [],
   "source": [
    "# Finds the total pages\n",
    "\n",
    "last_page_btn = driver.find_element(By.XPATH, '/html/body/div[4]/div[4]/div[7]/div[2]/nav/ul/li[8]/a')\n",
    "total_page = int(last_page_btn.text)"
   ]
  },
  {
   "cell_type": "code",
   "execution_count": 5,
   "id": "d1fb97f6",
   "metadata": {},
   "outputs": [
    {
     "name": "stderr",
     "output_type": "stream",
     "text": [
      " 99%|███████████████████████████████████████████████████████████████████████████████▍| 133/134 [22:03<00:09,  9.95s/it]"
     ]
    },
    {
     "name": "stdout",
     "output_type": "stream",
     "text": [
      "Scrapping finished!\r"
     ]
    },
    {
     "name": "stderr",
     "output_type": "stream",
     "text": [
      "\n"
     ]
    }
   ],
   "source": [
    "# Performs scrapping in a loop\n",
    "\n",
    "# Init two lists for storing gecko coin symbol and name \n",
    "gecko_symbol_lst = []\n",
    "gecko_name_lst = []\n",
    "\n",
    "count = 1\n",
    "\n",
    "# Init progress bar\n",
    "with tqdm(total = total_page) as pbar: \n",
    "\n",
    "    # Loops through all pages\n",
    "    while True:\n",
    "        # Prints the scrapping status\n",
    "        # print('Scrapping page ' + str(i + 1) + ' / 135 ...', end = '\\r')\n",
    "\n",
    "        # Finds coin symbol and coin name by XPATH\n",
    "        coin_symbols = driver.find_elements(By.XPATH, \"//span[@class='tw-hidden d-lg-inline font-normal text-3xs ml-2']\")\n",
    "        coin_names = driver.find_elements(By.XPATH, \"//a[@class='tw-hidden lg:tw-flex font-bold tw-items-center tw-justify-between']\")\n",
    "\n",
    "        # Appends the text info to its corresponding list\n",
    "        for j in range(len(coin_symbols)):\n",
    "            gecko_symbol_lst.append(coin_symbols[j].text)\n",
    "            gecko_name_lst.append(coin_names[j].text)\n",
    "\n",
    "        # Try to click next page\n",
    "        try:\n",
    "            next_page_btn = WebDriverWait(driver, 10).until(EC.element_to_be_clickable((By.LINK_TEXT, 'Next ›')))\n",
    "\n",
    "            next_page_btn.click()\n",
    "            \n",
    "            count += 1\n",
    "\n",
    "        except WebDriverException:\n",
    "            if count == total_page:\n",
    "                print('Scrapping finished!', end = '\\r')\n",
    "            else:\n",
    "                print('Scrapping incomplete! Something went wrong', end = '\\r')\n",
    "            break\n",
    "\n",
    "        pbar.update(1)\n",
    "        \n",
    "# Asserts \n",
    "assert(len(gecko_symbol_lst) == len(gecko_name_lst))\n",
    "        \n",
    "#     # Stop at the last page\n",
    "#     if i != (total_page-1):\n",
    "#         # Finds the next page button, perform the lick\n",
    "#         next_page_btn = driver.find_element(By.LINK_TEXT, 'Next ›')\n",
    "        \n",
    "#         action = ActionChains(driver)\n",
    "\n",
    "#         action.click(on_element = next_page_btn)\n",
    "\n",
    "#         action.perform()\n",
    "#     else:\n",
    "#         print('Scrapping finished!', end = '\\r')"
   ]
  },
  {
   "cell_type": "code",
   "execution_count": 6,
   "id": "f45adaa2",
   "metadata": {},
   "outputs": [],
   "source": [
    "# Creates dataframe, export as excel\n",
    "\n",
    "gecko_coin_data = {\n",
    "    'Coin(Gecko) Symbol' : gecko_symbol_lst,\n",
    "    'Coin(Gecko) Name' : gecko_name_lst,\n",
    "}\n",
    "\n",
    "df_gecko_coin_data = pd.DataFrame(gecko_coin_data)\n",
    "\n",
    "df_gecko_coin_data.to_excel('C:/Users/ZH128895/Work/CryptoCoinWebScrap/CoinGecko.xlsx', index = False)"
   ]
  }
 ],
 "metadata": {
  "kernelspec": {
   "display_name": "Python 3 (ipykernel)",
   "language": "python",
   "name": "python3"
  },
  "language_info": {
   "codemirror_mode": {
    "name": "ipython",
    "version": 3
   },
   "file_extension": ".py",
   "mimetype": "text/x-python",
   "name": "python",
   "nbconvert_exporter": "python",
   "pygments_lexer": "ipython3",
   "version": "3.9.12"
  }
 },
 "nbformat": 4,
 "nbformat_minor": 5
}
